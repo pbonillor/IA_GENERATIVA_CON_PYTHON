{
  "nbformat": 4,
  "nbformat_minor": 0,
  "metadata": {
    "colab": {
      "provenance": []
    },
    "kernelspec": {
      "name": "python3",
      "display_name": "Python 3"
    },
    "language_info": {
      "name": "python"
    }
  },
  "cells": [
    {
      "cell_type": "code",
      "source": [
        "!pip install openai -q"
      ],
      "metadata": {
        "id": "WQACcRf42LYL"
      },
      "execution_count": 3,
      "outputs": []
    },
    {
      "cell_type": "code",
      "source": [
        "import openai\n",
        "openai.api_type = \"azure\"\n",
        "openai.api_base = \"https://c-openai-demo.openai.azure.com/\"\n",
        "openai.api_version = \"2022-12-01\"\n",
        "openai.api_key = \"29bc1acfcf004d14b50a7d3fb961ee11\""
      ],
      "metadata": {
        "id": "uOzED1F628lf"
      },
      "execution_count": 4,
      "outputs": []
    },
    {
      "cell_type": "markdown",
      "source": [
        "# Zero, one and few short inference"
      ],
      "metadata": {
        "id": "2NXwfqhLC-tJ"
      }
    },
    {
      "cell_type": "markdown",
      "source": [
        "**classify a review**"
      ],
      "metadata": {
        "id": "YOZ2nvIPTZ-I"
      }
    },
    {
      "cell_type": "code",
      "source": [
        "zero_short_response = openai.Completion.create(\n",
        "  engine=\"text-davinci-003-model\",\n",
        "  prompt=\"classify the following review : I love this movie\",\n",
        "  temperature=0.1,\n",
        "  max_tokens=100,\n",
        "  top_p=0.5,\n",
        "  frequency_penalty=0,\n",
        "  presence_penalty=0,\n",
        "  best_of=1,\n",
        "  stop=None)\n",
        "zero_short_response.choices[0].text.strip()"
      ],
      "metadata": {
        "colab": {
          "base_uri": "https://localhost:8080/",
          "height": 36
        },
        "id": "8BqvA9cd3T7a",
        "outputId": "bce9267c-7c05-4c66-ac6e-41070ef24002"
      },
      "execution_count": 3,
      "outputs": [
        {
          "output_type": "execute_result",
          "data": {
            "text/plain": [
              "'Positive'"
            ],
            "application/vnd.google.colaboratory.intrinsic+json": {
              "type": "string"
            }
          },
          "metadata": {},
          "execution_count": 3
        }
      ]
    },
    {
      "cell_type": "code",
      "source": [
        "one_short_response = openai.Completion.create(\n",
        "  engine=\"text-davinci-003-model\",\n",
        "  prompt=\"\"\"classify the folllowing review : I love this movie.'\n",
        "             Example:\n",
        "             i hate the movie\n",
        "             sentiment: negative\n",
        "                   \"\"\",\n",
        "  temperature=0.1,\n",
        "  max_tokens=100,\n",
        "  top_p=0.5,\n",
        "  frequency_penalty=0,\n",
        "  presence_penalty=0,\n",
        "  best_of=1,\n",
        "  stop=None)\n",
        "one_short_response.choices[0].text.strip()"
      ],
      "metadata": {
        "colab": {
          "base_uri": "https://localhost:8080/",
          "height": 36
        },
        "id": "XF1Lsxem3tXf",
        "outputId": "d2c92f41-5510-4430-f6fe-af4a994e1d4f"
      },
      "execution_count": 4,
      "outputs": [
        {
          "output_type": "execute_result",
          "data": {
            "text/plain": [
              "'sentiment: positive'"
            ],
            "application/vnd.google.colaboratory.intrinsic+json": {
              "type": "string"
            }
          },
          "metadata": {},
          "execution_count": 4
        }
      ]
    },
    {
      "cell_type": "code",
      "source": [
        "few_short_response = openai.Completion.create(\n",
        "  engine=\"text-davinci-003-model\",\n",
        "  prompt=\"\"\"classify the folllowing review : I love this movie.'\n",
        "             Example:\n",
        "             i hate the movie\n",
        "             sentiment: negative\n",
        "\n",
        "             the movie was so bored\n",
        "             sentiment: negative\n",
        "\n",
        "             i feel tried today\n",
        "             sentiment: neutral\n",
        "\n",
        "                   \"\"\",\n",
        "  temperature=0.1,\n",
        "  max_tokens=100,\n",
        "  top_p=0.5,\n",
        "  frequency_penalty=0,\n",
        "  presence_penalty=0,\n",
        "  best_of=1,\n",
        "  stop=None)\n",
        "few_short_response.choices[0].text.strip()"
      ],
      "metadata": {
        "colab": {
          "base_uri": "https://localhost:8080/",
          "height": 36
        },
        "id": "Y_Om4c9_4Cl2",
        "outputId": "55f042d5-dc8a-4e13-e2d5-7cdf17dcf43e"
      },
      "execution_count": 5,
      "outputs": [
        {
          "output_type": "execute_result",
          "data": {
            "text/plain": [
              "'sentiment: positive'"
            ],
            "application/vnd.google.colaboratory.intrinsic+json": {
              "type": "string"
            }
          },
          "metadata": {},
          "execution_count": 5
        }
      ]
    },
    {
      "cell_type": "markdown",
      "source": [
        "**detect the language of a given text**"
      ],
      "metadata": {
        "id": "jQyk4oNyTejT"
      }
    },
    {
      "cell_type": "code",
      "source": [
        "zero_short_response = openai.Completion.create(\n",
        "  engine=\"text-davinci-003-model\",\n",
        "  prompt=\"detect the language of the following text : hello, how are you?\",\n",
        "  temperature=0.1,\n",
        "  max_tokens=100,\n",
        "  top_p=0.5,\n",
        "  frequency_penalty=0,\n",
        "  presence_penalty=0,\n",
        "  best_of=1,\n",
        "  stop=None)\n",
        "zero_short_response.choices[0].text.strip()"
      ],
      "metadata": {
        "colab": {
          "base_uri": "https://localhost:8080/",
          "height": 36
        },
        "id": "4MWZQN2QTi0X",
        "outputId": "7cc00064-e47c-4062-b3b8-983ae22684b8"
      },
      "execution_count": 16,
      "outputs": [
        {
          "output_type": "execute_result",
          "data": {
            "text/plain": [
              "'English'"
            ],
            "application/vnd.google.colaboratory.intrinsic+json": {
              "type": "string"
            }
          },
          "metadata": {},
          "execution_count": 16
        }
      ]
    },
    {
      "cell_type": "code",
      "source": [
        "one_short_response = openai.Completion.create(\n",
        "  engine=\"text-davinci-003-model\",\n",
        "  prompt=\"\"\"detect the language of the following text : hello, how are you?'\n",
        "             Example:\n",
        "             Salut, comment Ca va?\n",
        "             Language: French\n",
        "                   \"\"\",\n",
        "  temperature=0.1,\n",
        "  max_tokens=100,\n",
        "  top_p=0.5,\n",
        "  frequency_penalty=0,\n",
        "  presence_penalty=0,\n",
        "  best_of=1,\n",
        "  stop=None)\n",
        "one_short_response.choices[0].text.strip()"
      ],
      "metadata": {
        "colab": {
          "base_uri": "https://localhost:8080/",
          "height": 36
        },
        "id": "9P296hdYTvt2",
        "outputId": "1f45ab41-23d2-481b-b33f-bd9638ce794a"
      },
      "execution_count": 20,
      "outputs": [
        {
          "output_type": "execute_result",
          "data": {
            "text/plain": [
              "'Answer: English'"
            ],
            "application/vnd.google.colaboratory.intrinsic+json": {
              "type": "string"
            }
          },
          "metadata": {},
          "execution_count": 20
        }
      ]
    },
    {
      "cell_type": "code",
      "source": [
        "few_short_response = openai.Completion.create(\n",
        "  engine=\"text-davinci-003-model\",\n",
        "  prompt=\"\"\"detect the language of the following text : hello, how are you?'\n",
        "             Example:\n",
        "             i hate the movie\n",
        "             Language: English\n",
        "\n",
        "             j'aime cette serie\n",
        "             Language: French\n",
        "\n",
        "             Hola, Como estas?\n",
        "             Language: Spanish\n",
        "\n",
        "             guzal\n",
        "             Language: turkish\n",
        "\n",
        "                   \"\"\",\n",
        "  temperature=0.1,\n",
        "  max_tokens=100,\n",
        "  top_p=0.5,\n",
        "  frequency_penalty=0,\n",
        "  presence_penalty=0,\n",
        "  best_of=1,\n",
        "  stop=None)\n",
        "few_short_response.choices[0].text.strip()"
      ],
      "metadata": {
        "colab": {
          "base_uri": "https://localhost:8080/",
          "height": 36
        },
        "id": "oNxyEVF7UASG",
        "outputId": "b99b54ff-0438-46c5-a388-04412df3c356"
      },
      "execution_count": 19,
      "outputs": [
        {
          "output_type": "execute_result",
          "data": {
            "text/plain": [
              "'Hello, how are you?\\n             Language: English'"
            ],
            "application/vnd.google.colaboratory.intrinsic+json": {
              "type": "string"
            }
          },
          "metadata": {},
          "execution_count": 19
        }
      ]
    },
    {
      "cell_type": "code",
      "source": [
        "\"\"\"\n",
        "Jesus\n",
        "Jesus@gmail.com\n",
        "[+176619029]\n",
        "\n",
        "\n",
        "Summary\n",
        "Dedicated and highly skilled Data Engineer with 4 years of experience designing, implementing, and maintaining data pipelines. Adept at handling big data technologies, ETL processes, and database management. Seeking to leverage expertise to contribute to data-driven decision-making and drive innovation in a dynamic organization.\n",
        "\n",
        "Professional Experience:\n",
        "Data Engineer\n",
        "hiberus\n",
        "Spain\n",
        "[04-2015 - Present]\n",
        "\n",
        "Designed and implemented scalable data pipelines to extract, transform, and load (ETL) data from various sources into a centralized data warehouse, resulting in improved data quality and accessibility.\n",
        "Utilized tools such as Apache Spark, Hadoop, and Apache Kafka to process and manage large volumes of data efficiently.\n",
        "Collaborated with data scientists and analysts to understand data requirements and provide them with clean, well-organized datasets for analysis.\n",
        "Maintained and optimized existing data infrastructure, ensuring high availability and performance.\n",
        "Implemented data security measures to protect sensitive information and ensure compliance with data privacy regulations.\n",
        "Conducted performance tuning and troubleshooting of database systems to optimize query performance.\n",
        "Automated data workflows using scripting languages (e.g., Python) and orchestration tools (e.g., Apache Airflow).\n",
        "Data Analyst\n",
        "CompanyX\n",
        "Spain\n",
        "[05-2013 - 4-2015]\n",
        "\n",
        "Assisted in data collection, cleaning, and validation, ensuring data accuracy and consistency.\n",
        "Collaborated with cross-functional teams to create and maintain dashboards and reports for business stakeholders.\n",
        "Performed ad-hoc data analysis to identify trends, patterns, and actionable insights.\n",
        "Developed and maintained SQL queries and scripts for data extraction and reporting.\n",
        "Contributed to the development of data visualization tools and interactive dashboards using tools like Tableau or Power BI.\n",
        "Education:\n",
        "Bachelor of Science in Computer Science\n",
        "UniversityX\n",
        "UK\n",
        "2012\n",
        "\n",
        "Certifications:\n",
        "Certified Data Engineer (CDE)\n",
        "AWS Certified Big Data - Specialty\n",
        "\n",
        "Skills:\n",
        "Programming Languages: Python, Java, Scala\n",
        "Big Data Technologies: Apache Spark, Hadoop, Apache Kafka\n",
        "Database Systems: SQL, NoSQL (e.g., MongoDB, Cassandra)\n",
        "ETL Tools: Apache Nifi, Talend\n",
        "Data Warehousing: Amazon Redshift, Google BigQuery\n",
        "Cloud Platforms: AWS, Azure, Google Cloud\n",
        "Data Modeling: ERD, Dimensional Modeling\n",
        "Version Control: Git\n",
        "Scripting: Bash, PowerShell\n",
        "Data Visualization: Tableau, Power BI\n",
        "Orchestration Tools: Apache Airflow\n",
        "Containerization: Docker, Kubernetes\n",
        "Languages:\n",
        "English\n",
        "Spanish\n",
        "French\"\"\""
      ],
      "metadata": {
        "id": "MPIB_u_3BVcC"
      },
      "execution_count": null,
      "outputs": []
    },
    {
      "cell_type": "markdown",
      "source": [
        "# adjusting models parameters"
      ],
      "metadata": {
        "id": "O0uQvsscDdkx"
      }
    },
    {
      "cell_type": "code",
      "source": [
        "prompt = \"Write a short description of llama animal\"\n",
        "\n",
        "low_temperature = 0.1\n",
        "high_temperature= 0.8\n",
        "\n",
        "low_temperature_response = openai.Completion.create(\n",
        "  engine=\"text-davinci-003-model\",\n",
        "  prompt= prompt,\n",
        "  temperature= low_temperature,\n",
        "  max_tokens=512,\n",
        "  top_p=0.2,\n",
        "  frequency_penalty=0,\n",
        "  presence_penalty=0,\n",
        "  best_of=1,\n",
        "  stop=None)\n",
        "\n",
        "high_temperature_response = openai.Completion.create(\n",
        "  engine=\"text-davinci-003-model\",\n",
        "  prompt= prompt,\n",
        "  temperature= high_temperature,\n",
        "  max_tokens=512,\n",
        "  top_p=0.2,\n",
        "  frequency_penalty=0,\n",
        "  presence_penalty=0,\n",
        "  best_of=1,\n",
        "  stop=None)\n",
        "\n",
        "low_temperature_response=low_temperature_response.choices[0].text.strip()\n",
        "high_temperature_response=high_temperature_response.choices[0].text.strip()"
      ],
      "metadata": {
        "id": "rOg31I1QDjnl"
      },
      "execution_count": 13,
      "outputs": []
    },
    {
      "cell_type": "code",
      "source": [
        "low_temperature_response"
      ],
      "metadata": {
        "colab": {
          "base_uri": "https://localhost:8080/",
          "height": 53
        },
        "id": "XH0DwvCMQRqm",
        "outputId": "f5d3549a-45f7-43b1-84d3-79324e4003f5"
      },
      "execution_count": 14,
      "outputs": [
        {
          "output_type": "execute_result",
          "data": {
            "text/plain": [
              "'Llamas are a domesticated South American camelid, widely used as a pack and meat animal by Andean cultures since pre-Hispanic times. They are very social animals and are very easy to train. They are also known for their calm and gentle nature, making them popular as pets. Llamas are also used for their wool, which is soft and lightweight.'"
            ],
            "application/vnd.google.colaboratory.intrinsic+json": {
              "type": "string"
            }
          },
          "metadata": {},
          "execution_count": 14
        }
      ]
    },
    {
      "cell_type": "code",
      "source": [
        "high_temperature_response"
      ],
      "metadata": {
        "colab": {
          "base_uri": "https://localhost:8080/",
          "height": 53
        },
        "id": "-TZK-OSpQUWb",
        "outputId": "a870a149-60e3-436b-fa12-5a6f0a3d84fc"
      },
      "execution_count": 15,
      "outputs": [
        {
          "output_type": "execute_result",
          "data": {
            "text/plain": [
              "'Llamas are a domesticated South American camelid, widely used as a pack and meat animal by Andean cultures since pre-Hispanic times. They are very social animals and are very easy to train. They are also known for their calm and gentle nature, making them popular as pets. Llamas are also used for their wool, which is used to make clothing and blankets.'"
            ],
            "application/vnd.google.colaboratory.intrinsic+json": {
              "type": "string"
            }
          },
          "metadata": {},
          "execution_count": 15
        }
      ]
    }
  ]
}